{
 "cells": [
  {
   "cell_type": "markdown",
   "metadata": {},
   "source": [
    " # Lead Generation Project"
   ]
  },
  {
   "cell_type": "markdown",
   "metadata": {},
   "source": [
    "### Project overview\n",
    "Lead generation is a challenge that businesses have faced since the dawn of capitalism. To understand lead generation, let's first introduce the idea of a \"sales funnel.\""
   ]
  },
  {
   "cell_type": "markdown",
   "metadata": {},
   "source": [
    "# Data Understanding"
   ]
  },
  {
   "cell_type": "markdown",
   "metadata": {},
   "source": [
    "### <font color='red'>Data Understanding</font>"
   ]
  },
  {
   "cell_type": "code",
   "execution_count": 2,
   "metadata": {},
   "outputs": [],
   "source": [
    "# Import needed libraries\n",
    "import numpy as np\n",
    "import pandas as pd\n",
    "import matplotlib.pyplot as plt\n",
    "%matplotlib inline\n",
    "import seaborn as sns"
   ]
  },
  {
   "cell_type": "code",
   "execution_count": 3,
   "metadata": {},
   "outputs": [],
   "source": [
    "# Importing dataset\n",
    "LG= pd.read_csv('lead_gen.csv')"
   ]
  },
  {
   "cell_type": "code",
   "execution_count": 4,
   "metadata": {},
   "outputs": [
    {
     "data": {
      "text/html": [
       "<div>\n",
       "<table border=\"1\" class=\"dataframe\">\n",
       "  <thead>\n",
       "    <tr style=\"text-align: right;\">\n",
       "      <th></th>\n",
       "      <th>source</th>\n",
       "      <th>returning</th>\n",
       "      <th>mobile</th>\n",
       "      <th>country</th>\n",
       "      <th>pages_viewed</th>\n",
       "      <th>lead</th>\n",
       "    </tr>\n",
       "  </thead>\n",
       "  <tbody>\n",
       "    <tr>\n",
       "      <th>0</th>\n",
       "      <td>Taboola</td>\n",
       "      <td>1</td>\n",
       "      <td>1</td>\n",
       "      <td>US</td>\n",
       "      <td>2</td>\n",
       "      <td>0</td>\n",
       "    </tr>\n",
       "    <tr>\n",
       "      <th>1</th>\n",
       "      <td>Taboola</td>\n",
       "      <td>0</td>\n",
       "      <td>1</td>\n",
       "      <td>US</td>\n",
       "      <td>6</td>\n",
       "      <td>0</td>\n",
       "    </tr>\n",
       "    <tr>\n",
       "      <th>2</th>\n",
       "      <td>Facebook</td>\n",
       "      <td>0</td>\n",
       "      <td>0</td>\n",
       "      <td>US</td>\n",
       "      <td>2</td>\n",
       "      <td>0</td>\n",
       "    </tr>\n",
       "    <tr>\n",
       "      <th>3</th>\n",
       "      <td>Taboola</td>\n",
       "      <td>0</td>\n",
       "      <td>0</td>\n",
       "      <td>US</td>\n",
       "      <td>5</td>\n",
       "      <td>0</td>\n",
       "    </tr>\n",
       "    <tr>\n",
       "      <th>4</th>\n",
       "      <td>Taboola</td>\n",
       "      <td>0</td>\n",
       "      <td>0</td>\n",
       "      <td>Canada</td>\n",
       "      <td>5</td>\n",
       "      <td>0</td>\n",
       "    </tr>\n",
       "  </tbody>\n",
       "</table>\n",
       "</div>"
      ],
      "text/plain": [
       "     source  returning  mobile country  pages_viewed  lead\n",
       "0   Taboola          1       1      US             2     0\n",
       "1   Taboola          0       1      US             6     0\n",
       "2  Facebook          0       0      US             2     0\n",
       "3   Taboola          0       0      US             5     0\n",
       "4   Taboola          0       0  Canada             5     0"
      ]
     },
     "execution_count": 4,
     "metadata": {},
     "output_type": "execute_result"
    }
   ],
   "source": [
    "# show first five rows of data\n",
    "LG.head()"
   ]
  },
  {
   "cell_type": "code",
   "execution_count": 41,
   "metadata": {},
   "outputs": [
    {
     "name": "stdout",
     "output_type": "stream",
     "text": [
      "(287742, 6)\n"
     ]
    }
   ],
   "source": [
    "# Number of observations(rows) and features(columns) for each dataset\n",
    "print(LG.shape)"
   ]
  },
  {
   "cell_type": "markdown",
   "metadata": {},
   "source": [
    "#### <font color='blue'>Initial Data Collection Report</font> "
   ]
  },
  {
   "cell_type": "markdown",
   "metadata": {},
   "source": [
    "#####  Describe Data at High Level "
   ]
  },
  {
   "cell_type": "code",
   "execution_count": 6,
   "metadata": {},
   "outputs": [
    {
     "data": {
      "text/plain": [
       "287742"
      ]
     },
     "execution_count": 6,
     "metadata": {},
     "output_type": "execute_result"
    }
   ],
   "source": [
    "# Number of data rows(observations)\n",
    "len(LG)  "
   ]
  },
  {
   "cell_type": "code",
   "execution_count": 7,
   "metadata": {},
   "outputs": [
    {
     "data": {
      "text/plain": [
       "6"
      ]
     },
     "execution_count": 7,
     "metadata": {},
     "output_type": "execute_result"
    }
   ],
   "source": [
    "# Number of columns(features)\n",
    "len(LG.columns)"
   ]
  },
  {
   "cell_type": "code",
   "execution_count": 8,
   "metadata": {},
   "outputs": [
    {
     "data": {
      "text/plain": [
       "Index(['source', 'returning', 'mobile', 'country', 'pages_viewed', 'lead'], dtype='object')"
      ]
     },
     "execution_count": 8,
     "metadata": {},
     "output_type": "execute_result"
    }
   ],
   "source": [
    "# list of column names\n",
    "LG.columns"
   ]
  },
  {
   "cell_type": "code",
   "execution_count": 9,
   "metadata": {},
   "outputs": [
    {
     "name": "stdout",
     "output_type": "stream",
     "text": [
      "<class 'pandas.core.frame.DataFrame'>\n",
      "RangeIndex: 287742 entries, 0 to 287741\n",
      "Data columns (total 6 columns):\n",
      "source          287742 non-null object\n",
      "returning       287742 non-null int64\n",
      "mobile          287742 non-null int64\n",
      "country         287742 non-null object\n",
      "pages_viewed    287742 non-null int64\n",
      "lead            287742 non-null int64\n",
      "dtypes: int64(4), object(2)\n",
      "memory usage: 13.2+ MB\n"
     ]
    }
   ],
   "source": [
    "# Information on the columns\n",
    "LG.info() "
   ]
  },
  {
   "cell_type": "markdown",
   "metadata": {},
   "source": [
    "#### <font color='blue'>Data Description Report</font>  "
   ]
  },
  {
   "cell_type": "markdown",
   "metadata": {},
   "source": [
    "### <font color='red'>Data Exploration</font>"
   ]
  },
  {
   "cell_type": "code",
   "execution_count": 17,
   "metadata": {},
   "outputs": [
    {
     "data": {
      "text/html": [
       "<div>\n",
       "<table border=\"1\" class=\"dataframe\">\n",
       "  <thead>\n",
       "    <tr style=\"text-align: right;\">\n",
       "      <th></th>\n",
       "      <th>returning</th>\n",
       "      <th>mobile</th>\n",
       "      <th>pages_viewed</th>\n",
       "      <th>lead</th>\n",
       "    </tr>\n",
       "  </thead>\n",
       "  <tbody>\n",
       "    <tr>\n",
       "      <th>count</th>\n",
       "      <td>287742.000000</td>\n",
       "      <td>287742.000000</td>\n",
       "      <td>287742.000000</td>\n",
       "      <td>287742.000000</td>\n",
       "    </tr>\n",
       "    <tr>\n",
       "      <th>mean</th>\n",
       "      <td>0.173607</td>\n",
       "      <td>0.685851</td>\n",
       "      <td>4.917666</td>\n",
       "      <td>0.032140</td>\n",
       "    </tr>\n",
       "    <tr>\n",
       "      <th>std</th>\n",
       "      <td>0.378772</td>\n",
       "      <td>0.464177</td>\n",
       "      <td>3.382546</td>\n",
       "      <td>0.176372</td>\n",
       "    </tr>\n",
       "    <tr>\n",
       "      <th>min</th>\n",
       "      <td>0.000000</td>\n",
       "      <td>0.000000</td>\n",
       "      <td>1.000000</td>\n",
       "      <td>0.000000</td>\n",
       "    </tr>\n",
       "    <tr>\n",
       "      <th>25%</th>\n",
       "      <td>0.000000</td>\n",
       "      <td>0.000000</td>\n",
       "      <td>2.000000</td>\n",
       "      <td>0.000000</td>\n",
       "    </tr>\n",
       "    <tr>\n",
       "      <th>50%</th>\n",
       "      <td>0.000000</td>\n",
       "      <td>1.000000</td>\n",
       "      <td>4.000000</td>\n",
       "      <td>0.000000</td>\n",
       "    </tr>\n",
       "    <tr>\n",
       "      <th>75%</th>\n",
       "      <td>0.000000</td>\n",
       "      <td>1.000000</td>\n",
       "      <td>7.000000</td>\n",
       "      <td>0.000000</td>\n",
       "    </tr>\n",
       "    <tr>\n",
       "      <th>max</th>\n",
       "      <td>1.000000</td>\n",
       "      <td>1.000000</td>\n",
       "      <td>30.000000</td>\n",
       "      <td>1.000000</td>\n",
       "    </tr>\n",
       "  </tbody>\n",
       "</table>\n",
       "</div>"
      ],
      "text/plain": [
       "           returning         mobile   pages_viewed           lead\n",
       "count  287742.000000  287742.000000  287742.000000  287742.000000\n",
       "mean        0.173607       0.685851       4.917666       0.032140\n",
       "std         0.378772       0.464177       3.382546       0.176372\n",
       "min         0.000000       0.000000       1.000000       0.000000\n",
       "25%         0.000000       0.000000       2.000000       0.000000\n",
       "50%         0.000000       1.000000       4.000000       0.000000\n",
       "75%         0.000000       1.000000       7.000000       0.000000\n",
       "max         1.000000       1.000000      30.000000       1.000000"
      ]
     },
     "execution_count": 17,
     "metadata": {},
     "output_type": "execute_result"
    }
   ],
   "source": [
    "# Printout summary statistics for numerical fields\n",
    "LG.describe()"
   ]
  },
  {
   "cell_type": "code",
   "execution_count": 16,
   "metadata": {},
   "outputs": [
    {
     "data": {
      "text/html": [
       "<div>\n",
       "<table border=\"1\" class=\"dataframe\">\n",
       "  <thead>\n",
       "    <tr style=\"text-align: right;\">\n",
       "      <th></th>\n",
       "      <th>0</th>\n",
       "      <th>1</th>\n",
       "      <th>2</th>\n",
       "      <th>3</th>\n",
       "      <th>4</th>\n",
       "      <th>5</th>\n",
       "      <th>6</th>\n",
       "      <th>7</th>\n",
       "      <th>8</th>\n",
       "      <th>9</th>\n",
       "      <th>...</th>\n",
       "      <th>287732</th>\n",
       "      <th>287733</th>\n",
       "      <th>287734</th>\n",
       "      <th>287735</th>\n",
       "      <th>287736</th>\n",
       "      <th>287737</th>\n",
       "      <th>287738</th>\n",
       "      <th>287739</th>\n",
       "      <th>287740</th>\n",
       "      <th>287741</th>\n",
       "    </tr>\n",
       "  </thead>\n",
       "  <tbody>\n",
       "    <tr>\n",
       "      <th>source</th>\n",
       "      <td>Taboola</td>\n",
       "      <td>Taboola</td>\n",
       "      <td>Facebook</td>\n",
       "      <td>Taboola</td>\n",
       "      <td>Taboola</td>\n",
       "      <td>Adwords</td>\n",
       "      <td>Taboola</td>\n",
       "      <td>Facebook</td>\n",
       "      <td>Adwords</td>\n",
       "      <td>Facebook</td>\n",
       "      <td>...</td>\n",
       "      <td>Adwords</td>\n",
       "      <td>Adwords</td>\n",
       "      <td>Facebook</td>\n",
       "      <td>Facebook</td>\n",
       "      <td>Taboola</td>\n",
       "      <td>Adwords</td>\n",
       "      <td>Taboola</td>\n",
       "      <td>Influencer</td>\n",
       "      <td>Taboola</td>\n",
       "      <td>Adwords</td>\n",
       "    </tr>\n",
       "    <tr>\n",
       "      <th>returning</th>\n",
       "      <td>1</td>\n",
       "      <td>0</td>\n",
       "      <td>0</td>\n",
       "      <td>0</td>\n",
       "      <td>0</td>\n",
       "      <td>0</td>\n",
       "      <td>0</td>\n",
       "      <td>0</td>\n",
       "      <td>0</td>\n",
       "      <td>0</td>\n",
       "      <td>...</td>\n",
       "      <td>1</td>\n",
       "      <td>0</td>\n",
       "      <td>0</td>\n",
       "      <td>0</td>\n",
       "      <td>1</td>\n",
       "      <td>0</td>\n",
       "      <td>0</td>\n",
       "      <td>0</td>\n",
       "      <td>0</td>\n",
       "      <td>0</td>\n",
       "    </tr>\n",
       "    <tr>\n",
       "      <th>mobile</th>\n",
       "      <td>1</td>\n",
       "      <td>1</td>\n",
       "      <td>0</td>\n",
       "      <td>0</td>\n",
       "      <td>0</td>\n",
       "      <td>1</td>\n",
       "      <td>0</td>\n",
       "      <td>1</td>\n",
       "      <td>1</td>\n",
       "      <td>0</td>\n",
       "      <td>...</td>\n",
       "      <td>1</td>\n",
       "      <td>1</td>\n",
       "      <td>1</td>\n",
       "      <td>1</td>\n",
       "      <td>1</td>\n",
       "      <td>1</td>\n",
       "      <td>1</td>\n",
       "      <td>1</td>\n",
       "      <td>1</td>\n",
       "      <td>0</td>\n",
       "    </tr>\n",
       "    <tr>\n",
       "      <th>country</th>\n",
       "      <td>US</td>\n",
       "      <td>US</td>\n",
       "      <td>US</td>\n",
       "      <td>US</td>\n",
       "      <td>Canada</td>\n",
       "      <td>US</td>\n",
       "      <td>US</td>\n",
       "      <td>UK</td>\n",
       "      <td>Canada</td>\n",
       "      <td>US</td>\n",
       "      <td>...</td>\n",
       "      <td>UK</td>\n",
       "      <td>US</td>\n",
       "      <td>US</td>\n",
       "      <td>US</td>\n",
       "      <td>US</td>\n",
       "      <td>UK</td>\n",
       "      <td>US</td>\n",
       "      <td>US</td>\n",
       "      <td>US</td>\n",
       "      <td>Canada</td>\n",
       "    </tr>\n",
       "    <tr>\n",
       "      <th>pages_viewed</th>\n",
       "      <td>2</td>\n",
       "      <td>6</td>\n",
       "      <td>2</td>\n",
       "      <td>5</td>\n",
       "      <td>5</td>\n",
       "      <td>2</td>\n",
       "      <td>6</td>\n",
       "      <td>1</td>\n",
       "      <td>1</td>\n",
       "      <td>6</td>\n",
       "      <td>...</td>\n",
       "      <td>20</td>\n",
       "      <td>1</td>\n",
       "      <td>3</td>\n",
       "      <td>6</td>\n",
       "      <td>3</td>\n",
       "      <td>4</td>\n",
       "      <td>5</td>\n",
       "      <td>9</td>\n",
       "      <td>2</td>\n",
       "      <td>4</td>\n",
       "    </tr>\n",
       "    <tr>\n",
       "      <th>lead</th>\n",
       "      <td>0</td>\n",
       "      <td>0</td>\n",
       "      <td>0</td>\n",
       "      <td>0</td>\n",
       "      <td>0</td>\n",
       "      <td>0</td>\n",
       "      <td>0</td>\n",
       "      <td>0</td>\n",
       "      <td>0</td>\n",
       "      <td>0</td>\n",
       "      <td>...</td>\n",
       "      <td>1</td>\n",
       "      <td>0</td>\n",
       "      <td>0</td>\n",
       "      <td>0</td>\n",
       "      <td>0</td>\n",
       "      <td>0</td>\n",
       "      <td>0</td>\n",
       "      <td>0</td>\n",
       "      <td>0</td>\n",
       "      <td>0</td>\n",
       "    </tr>\n",
       "  </tbody>\n",
       "</table>\n",
       "<p>6 rows × 287742 columns</p>\n",
       "</div>"
      ],
      "text/plain": [
       "               0        1         2        3        4        5        6       \\\n",
       "source        Taboola  Taboola  Facebook  Taboola  Taboola  Adwords  Taboola   \n",
       "returning           1        0         0        0        0        0        0   \n",
       "mobile              1        1         0        0        0        1        0   \n",
       "country            US       US        US       US   Canada       US       US   \n",
       "pages_viewed        2        6         2        5        5        2        6   \n",
       "lead                0        0         0        0        0        0        0   \n",
       "\n",
       "                7        8         9        ...      287732   287733  \\\n",
       "source        Facebook  Adwords  Facebook   ...     Adwords  Adwords   \n",
       "returning            0        0         0   ...           1        0   \n",
       "mobile               1        1         0   ...           1        1   \n",
       "country             UK   Canada        US   ...          UK       US   \n",
       "pages_viewed         1        1         6   ...          20        1   \n",
       "lead                 0        0         0   ...           1        0   \n",
       "\n",
       "                287734    287735   287736   287737   287738      287739  \\\n",
       "source        Facebook  Facebook  Taboola  Adwords  Taboola  Influencer   \n",
       "returning            0         0        1        0        0           0   \n",
       "mobile               1         1        1        1        1           1   \n",
       "country             US        US       US       UK       US          US   \n",
       "pages_viewed         3         6        3        4        5           9   \n",
       "lead                 0         0        0        0        0           0   \n",
       "\n",
       "               287740   287741  \n",
       "source        Taboola  Adwords  \n",
       "returning           0        0  \n",
       "mobile              1        0  \n",
       "country            US   Canada  \n",
       "pages_viewed        2        4  \n",
       "lead                0        0  \n",
       "\n",
       "[6 rows x 287742 columns]"
      ]
     },
     "execution_count": 16,
     "metadata": {},
     "output_type": "execute_result"
    }
   ],
   "source": [
    "# swap rows and columns\n",
    "LG.transpose()"
   ]
  },
  {
   "cell_type": "code",
   "execution_count": 18,
   "metadata": {},
   "outputs": [
    {
     "data": {
      "text/html": [
       "<div>\n",
       "<table border=\"1\" class=\"dataframe\">\n",
       "  <thead>\n",
       "    <tr style=\"text-align: right;\">\n",
       "      <th></th>\n",
       "      <th>count</th>\n",
       "      <th>mean</th>\n",
       "      <th>std</th>\n",
       "      <th>min</th>\n",
       "      <th>25%</th>\n",
       "      <th>50%</th>\n",
       "      <th>75%</th>\n",
       "      <th>max</th>\n",
       "    </tr>\n",
       "  </thead>\n",
       "  <tbody>\n",
       "    <tr>\n",
       "      <th>returning</th>\n",
       "      <td>287742.0</td>\n",
       "      <td>0.173607</td>\n",
       "      <td>0.378772</td>\n",
       "      <td>0.0</td>\n",
       "      <td>0.0</td>\n",
       "      <td>0.0</td>\n",
       "      <td>0.0</td>\n",
       "      <td>1.0</td>\n",
       "    </tr>\n",
       "    <tr>\n",
       "      <th>mobile</th>\n",
       "      <td>287742.0</td>\n",
       "      <td>0.685851</td>\n",
       "      <td>0.464177</td>\n",
       "      <td>0.0</td>\n",
       "      <td>0.0</td>\n",
       "      <td>1.0</td>\n",
       "      <td>1.0</td>\n",
       "      <td>1.0</td>\n",
       "    </tr>\n",
       "    <tr>\n",
       "      <th>pages_viewed</th>\n",
       "      <td>287742.0</td>\n",
       "      <td>4.917666</td>\n",
       "      <td>3.382546</td>\n",
       "      <td>1.0</td>\n",
       "      <td>2.0</td>\n",
       "      <td>4.0</td>\n",
       "      <td>7.0</td>\n",
       "      <td>30.0</td>\n",
       "    </tr>\n",
       "    <tr>\n",
       "      <th>lead</th>\n",
       "      <td>287742.0</td>\n",
       "      <td>0.032140</td>\n",
       "      <td>0.176372</td>\n",
       "      <td>0.0</td>\n",
       "      <td>0.0</td>\n",
       "      <td>0.0</td>\n",
       "      <td>0.0</td>\n",
       "      <td>1.0</td>\n",
       "    </tr>\n",
       "  </tbody>\n",
       "</table>\n",
       "</div>"
      ],
      "text/plain": [
       "                 count      mean       std  min  25%  50%  75%   max\n",
       "returning     287742.0  0.173607  0.378772  0.0  0.0  0.0  0.0   1.0\n",
       "mobile        287742.0  0.685851  0.464177  0.0  0.0  1.0  1.0   1.0\n",
       "pages_viewed  287742.0  4.917666  3.382546  1.0  2.0  4.0  7.0  30.0\n",
       "lead          287742.0  0.032140  0.176372  0.0  0.0  0.0  0.0   1.0"
      ]
     },
     "execution_count": 18,
     "metadata": {},
     "output_type": "execute_result"
    }
   ],
   "source": [
    "# swap rows and columns showing summary statistics for numerical fields\n",
    "LG.describe().transpose()"
   ]
  },
  {
   "cell_type": "code",
   "execution_count": 10,
   "metadata": {},
   "outputs": [
    {
     "data": {
      "text/plain": [
       "array(['Adwords', 'Facebook', 'Influencer', 'Taboola'], dtype=object)"
      ]
     },
     "execution_count": 10,
     "metadata": {},
     "output_type": "execute_result"
    }
   ],
   "source": [
    "#List unique values in the source variable\n",
    "a= LG['source']\n",
    "np.unique(a)"
   ]
  },
  {
   "cell_type": "code",
   "execution_count": 20,
   "metadata": {},
   "outputs": [
    {
     "data": {
      "text/plain": [
       "source          0\n",
       "returning       0\n",
       "mobile          0\n",
       "country         0\n",
       "pages_viewed    0\n",
       "lead            0\n",
       "dtype: int64"
      ]
     },
     "execution_count": 20,
     "metadata": {},
     "output_type": "execute_result"
    }
   ],
   "source": [
    "# Missing data\n",
    "LG.isnull().sum()"
   ]
  },
  {
   "cell_type": "code",
   "execution_count": 30,
   "metadata": {},
   "outputs": [
    {
     "data": {
      "text/plain": [
       "Facebook      162139\n",
       "Taboola        69689\n",
       "Adwords        44001\n",
       "Influencer     11913\n",
       "Name: source, dtype: int64"
      ]
     },
     "execution_count": 30,
     "metadata": {},
     "output_type": "execute_result"
    }
   ],
   "source": [
    "# Count of sources \n",
    "LG.source.value_counts()"
   ]
  },
  {
   "cell_type": "code",
   "execution_count": 31,
   "metadata": {},
   "outputs": [
    {
     "data": {
      "text/plain": [
       "0    237788\n",
       "1     49954\n",
       "Name: returning, dtype: int64"
      ]
     },
     "execution_count": 31,
     "metadata": {},
     "output_type": "execute_result"
    }
   ],
   "source": [
    "# Count of returning visitors\n",
    "LG.returning.value_counts()"
   ]
  },
  {
   "cell_type": "code",
   "execution_count": 32,
   "metadata": {},
   "outputs": [
    {
     "data": {
      "text/plain": [
       "1    197348\n",
       "0     90394\n",
       "Name: mobile, dtype: int64"
      ]
     },
     "execution_count": 32,
     "metadata": {},
     "output_type": "execute_result"
    }
   ],
   "source": [
    "# Count of mobile -phone & tablet- users\n",
    "LG.mobile.value_counts()"
   ]
  },
  {
   "cell_type": "code",
   "execution_count": 29,
   "metadata": {},
   "outputs": [
    {
     "data": {
      "text/plain": [
       "US        141182\n",
       "UK         80671\n",
       "Canada     65889\n",
       "Name: country, dtype: int64"
      ]
     },
     "execution_count": 29,
     "metadata": {},
     "output_type": "execute_result"
    }
   ],
   "source": [
    "# Count of visitors in each country\n",
    "LG.country.value_counts()"
   ]
  },
  {
   "cell_type": "code",
   "execution_count": 22,
   "metadata": {},
   "outputs": [
    {
     "data": {
      "text/plain": [
       "2     38973\n",
       "3     38966\n",
       "1     37873\n",
       "4     36811\n",
       "5     32973\n",
       "6     27254\n",
       "7     21499\n",
       "8     16062\n",
       "9     11487\n",
       "10     7911\n",
       "11     5072\n",
       "12     3517\n",
       "13     2358\n",
       "14     1656\n",
       "15     1310\n",
       "16      997\n",
       "17      796\n",
       "18      627\n",
       "19      554\n",
       "20      364\n",
       "21      286\n",
       "22      186\n",
       "23      108\n",
       "24       48\n",
       "25       29\n",
       "26       15\n",
       "27        6\n",
       "28        2\n",
       "30        2\n",
       "Name: pages_viewed, dtype: int64"
      ]
     },
     "execution_count": 22,
     "metadata": {},
     "output_type": "execute_result"
    }
   ],
   "source": [
    "# Count of pages viewed by visitors\n",
    "LG.pages_viewed.value_counts()"
   ]
  },
  {
   "cell_type": "code",
   "execution_count": 21,
   "metadata": {},
   "outputs": [
    {
     "data": {
      "text/plain": [
       "0    278494\n",
       "1      9248\n",
       "Name: lead, dtype: int64"
      ]
     },
     "execution_count": 21,
     "metadata": {},
     "output_type": "execute_result"
    }
   ],
   "source": [
    "# Count of leads\n",
    "LG.lead.value_counts()"
   ]
  },
  {
   "cell_type": "markdown",
   "metadata": {},
   "source": [
    "##### Indicator variables"
   ]
  },
  {
   "cell_type": "code",
   "execution_count": 26,
   "metadata": {},
   "outputs": [
    {
     "data": {
      "text/plain": [
       "pages_viewed    1\n",
       "dtype: int64"
      ]
     },
     "execution_count": 26,
     "metadata": {},
     "output_type": "execute_result"
    }
   ],
   "source": [
    "# Minimum Pages Viewed\n",
    "LG[['pages_viewed']].min()"
   ]
  },
  {
   "cell_type": "code",
   "execution_count": 27,
   "metadata": {},
   "outputs": [
    {
     "data": {
      "text/plain": [
       "pages_viewed    4.917666\n",
       "dtype: float64"
      ]
     },
     "execution_count": 27,
     "metadata": {},
     "output_type": "execute_result"
    }
   ],
   "source": [
    "# Mean value of Pages Viewed\n",
    "LG[['pages_viewed']].mean()"
   ]
  },
  {
   "cell_type": "code",
   "execution_count": 28,
   "metadata": {},
   "outputs": [
    {
     "data": {
      "text/plain": [
       "pages_viewed    30\n",
       "dtype: int64"
      ]
     },
     "execution_count": 28,
     "metadata": {},
     "output_type": "execute_result"
    }
   ],
   "source": [
    "# Maximum Pages Viewed\n",
    "LG[['pages_viewed']].max()"
   ]
  },
  {
   "cell_type": "markdown",
   "metadata": {},
   "source": [
    "#### <font color='blue'>Data Quality Report</font>  "
   ]
  },
  {
   "cell_type": "markdown",
   "metadata": {},
   "source": [
    "### <font color='red'>Data Visualization</font>"
   ]
  },
  {
   "cell_type": "code",
   "execution_count": 40,
   "metadata": {},
   "outputs": [
    {
     "data": {
      "image/png": "[encoded data removed]",
      "text/plain": [
       "<matplotlib.figure.Figure at 0x7ff8ab72a048>"
      ]
     },
     "metadata": {},
     "output_type": "display_data"
    }
   ],
   "source": [
    "# Source feature\n",
    "sns.countplot(x=\"source\", data=LG, palette=\"Set1\")\n",
    "plt.rcParams['figure.figsize'] = 15,10\n",
    "# Countplot visualizes count of sources."
   ]
  },
  {
   "cell_type": "code",
   "execution_count": 43,
   "metadata": {},
   "outputs": [
    {
     "data": {
      "image/png": "[encoded data removed]",
      "text/plain": [
       "<matplotlib.figure.Figure at 0x7ff8ab3166a0>"
      ]
     },
     "metadata": {},
     "output_type": "display_data"
    }
   ],
   "source": [
    "# Returning Feature\n",
    "LG.hist(column='returning')\n",
    "plt.rcParams['figure.figsize'] = 15,10\n",
    "plt.show()"
   ]
  },
  {
   "cell_type": "code",
   "execution_count": 44,
   "metadata": {},
   "outputs": [
    {
     "data": {
      "image/png": "[encoded data removed]",
      "text/plain": [
       "<matplotlib.figure.Figure at 0x7ff8ab32be48>"
      ]
     },
     "metadata": {},
     "output_type": "display_data"
    }
   ],
   "source": [
    "# Mobile Feature\n",
    "LG.hist(column='mobile')\n",
    "plt.rcParams['figure.figsize'] = 15,10\n",
    "plt.show()"
   ]
  },
  {
   "cell_type": "code",
   "execution_count": 39,
   "metadata": {},
   "outputs": [
    {
     "data": {
      "image/png": "[encoded data removed]",
      "text/plain": [
       "<matplotlib.figure.Figure at 0x7ff8ab392160>"
      ]
     },
     "metadata": {},
     "output_type": "display_data"
    }
   ],
   "source": [
    "# Country feature\n",
    "sns.countplot(x=\"country\", data=LG, palette=\"Set1\")\n",
    "plt.rcParams['figure.figsize'] = 15,10\n",
    "# Countplot visualizes count of visitors in each country."
   ]
  },
  {
   "cell_type": "code",
   "execution_count": 45,
   "metadata": {},
   "outputs": [
    {
     "data": {
      "image/png": "[encoded data removed]",
      "text/plain": [
       "<matplotlib.figure.Figure at 0x7ff8ab3f0c50>"
      ]
     },
     "metadata": {},
     "output_type": "display_data"
    }
   ],
   "source": [
    "LG.hist(column='pages_viewed')\n",
    "plt.rcParams['figure.figsize'] = 15,10\n",
    "plt.show()"
   ]
  },
  {
   "cell_type": "code",
   "execution_count": 13,
   "metadata": {
    "scrolled": true
   },
   "outputs": [
    {
     "data": {
      "image/png": "[encoded data removed]",
      "text/plain": [
       "<matplotlib.figure.Figure at 0x7f736bbca5c0>"
      ]
     },
     "metadata": {},
     "output_type": "display_data"
    }
   ],
   "source": [
    "# Lead feature\n",
    "sns.countplot(x=\"lead\", data=LG, palette=\"Set2\")\n",
    "plt.rcParams['figure.figsize'] = 10,5\n",
    "# Countplot visualizes number of leads."
   ]
  },
  {
   "cell_type": "code",
   "execution_count": 14,
   "metadata": {},
   "outputs": [
    {
     "data": {
      "text/plain": [
       "Text(0.5,0,'Source')"
      ]
     },
     "execution_count": 14,
     "metadata": {},
     "output_type": "execute_result"
    },
    {
     "data": {
      "image/png": "[encoded data removed]",
      "text/plain": [
       "<matplotlib.figure.Figure at 0x7f736bf6a400>"
      ]
     },
     "metadata": {},
     "output_type": "display_data"
    }
   ],
   "source": [
    "plt.figure(figsize=(15,10))\n",
    "sns.barplot(x=\"source\", y= \"pages_viewed\", data=LG, palette=\"RdBu_r\")\n",
    "plt.xlabel('Source')"
   ]
  },
  {
   "cell_type": "code",
   "execution_count": null,
   "metadata": {},
   "outputs": [],
   "source": [
    "plt.figure(figsize=(15,10))\n",
    "sns.barplot(x=\"country\", y= \"lead\", data=LG, palette=\"RdBu_r\")\n",
    "plt.xlabel('Country')"
   ]
  },
  {
   "cell_type": "code",
   "execution_count": 28,
   "metadata": {},
   "outputs": [
    {
     "data": {
      "text/plain": [
       "Text(0.5,0,'Non-Lead')"
      ]
     },
     "execution_count": 28,
     "metadata": {},
     "output_type": "execute_result"
    },
    {
     "data": {
      "image/png": "[encoded data removed]",
      "text/plain": [
       "<matplotlib.figure.Figure at 0x7f736aad0fd0>"
      ]
     },
     "metadata": {},
     "output_type": "display_data"
    },
    {
     "data": {
      "image/png": "[encoded data removed]",
      "text/plain": [
       "<matplotlib.figure.Figure at 0x7f736a7e4cf8>"
      ]
     },
     "metadata": {},
     "output_type": "display_data"
    },
    {
     "data": {
      "image/png": "[encoded data removed]",
      "text/plain": [
       "<matplotlib.figure.Figure at 0x7f736a7b7be0>"
      ]
     },
     "metadata": {},
     "output_type": "display_data"
    }
   ],
   "source": [
    "plt.figure(figsize=(13,7))\n",
    "LG[LG['lead']== 1]['pages_viewed'].hist(alpha=0.5,color='blue',\n",
    "                                              bins=5,label='Lead')\n",
    "LG[LG['lead']== 0]['pages_viewed'].hist(alpha=0.5,color='red',\n",
    "                                              bins=15,label='Non-Lead')\n",
    "plt.legend()\n",
    "plt.xlabel('Lead VS Non-Lead')\n",
    "\n",
    "plt.figure(figsize=(13,7))\n",
    "LG[LG['lead']== 1]['pages_viewed'].hist(alpha=0.5,color='blue',\n",
    "                                              bins=30,label='LEAD')\n",
    "plt.legend()\n",
    "plt.xlabel('Lead')\n",
    "\n",
    "plt.figure(figsize=(13,7))\n",
    "LG[LG['lead']== 0]['pages_viewed'].hist(alpha=0.5,color='red',\n",
    "                                              bins=15,label='Non-LEAD')\n",
    "plt.legend()\n",
    "plt.xlabel('Non-Lead')"
   ]
  },
  {
   "cell_type": "code",
   "execution_count": 29,
   "metadata": {},
   "outputs": [
    {
     "data": {
      "text/plain": [
       "<seaborn.axisgrid.FacetGrid at 0x7f736abc07f0>"
      ]
     },
     "execution_count": 29,
     "metadata": {},
     "output_type": "execute_result"
    },
    {
     "data": {
      "image/png": "[encoded data removed]",
      "text/plain": [
       "<matplotlib.figure.Figure at 0x7f736ba976a0>"
      ]
     },
     "metadata": {},
     "output_type": "display_data"
    }
   ],
   "source": [
    "sns.factorplot(x=\"country\", y=\"pages_viewed\", hue=\"returning\", data=LG, kind=\"bar\", size= 10, palette=\"Set1\")"
   ]
  },
  {
   "cell_type": "code",
   "execution_count": 30,
   "metadata": {},
   "outputs": [
    {
     "data": {
      "text/plain": [
       "<seaborn.axisgrid.FacetGrid at 0x7f736babac50>"
      ]
     },
     "execution_count": 30,
     "metadata": {},
     "output_type": "execute_result"
    },
    {
     "data": {
      "image/png": "[encoded data removed]",
      "text/plain": [
       "<matplotlib.figure.Figure at 0x7f736a736a90>"
      ]
     },
     "metadata": {},
     "output_type": "display_data"
    }
   ],
   "source": [
    "sns.factorplot(x=\"country\", y=\"pages_viewed\", hue=\"lead\", data=LG, kind=\"bar\", size= 10, palette=\"Set2\")"
   ]
  },
  {
   "cell_type": "code",
   "execution_count": 13,
   "metadata": {},
   "outputs": [
    {
     "data": {
      "image/png": "[encoded data removed]",
      "text/plain": [
       "<matplotlib.figure.Figure at 0x7fc800f55e80>"
      ]
     },
     "metadata": {},
     "output_type": "display_data"
    }
   ],
   "source": [
    "# Boxplots\n",
    "plot2 =sns.boxplot(data = LG, x = 'lead', y='pages_viewed')"
   ]
  },
  {
   "cell_type": "code",
   "execution_count": 42,
   "metadata": {},
   "outputs": [
    {
     "data": {
      "image/png": "[encoded data removed]",
      "text/plain": [
       "<matplotlib.figure.Figure at 0x7ff8ab3a2128>"
      ]
     },
     "metadata": {},
     "output_type": "display_data"
    }
   ],
   "source": [
    "sns.boxplot(x='returning', y=\"pages_viewed\", data=LG, palette=\"Set3\")\n",
    "plt.rcParams['figure.figsize'] = 15,10"
   ]
  },
  {
   "cell_type": "code",
   "execution_count": 50,
   "metadata": {},
   "outputs": [
    {
     "data": {
      "text/plain": [
       "<seaborn.axisgrid.PairGrid at 0x7f73658b3080>"
      ]
     },
     "execution_count": 50,
     "metadata": {},
     "output_type": "execute_result"
    },
    {
     "data": {
      "image/png": "[encoded data removed]",
      "text/plain": [
       "<matplotlib.figure.Figure at 0x7f73658b3780>"
      ]
     },
     "metadata": {},
     "output_type": "display_data"
    }
   ],
   "source": [
    "sns.pairplot(LG,hue='lead',palette=\"husl\")"
   ]
  },
  {
   "cell_type": "markdown",
   "metadata": {},
   "source": [
    "### Data Correlation"
   ]
  },
  {
   "cell_type": "code",
   "execution_count": 43,
   "metadata": {},
   "outputs": [
    {
     "data": {
      "text/html": [
       "<div>\n",
       "<table border=\"1\" class=\"dataframe\">\n",
       "  <thead>\n",
       "    <tr style=\"text-align: right;\">\n",
       "      <th></th>\n",
       "      <th>returning</th>\n",
       "      <th>mobile</th>\n",
       "      <th>pages_viewed</th>\n",
       "      <th>lead</th>\n",
       "    </tr>\n",
       "  </thead>\n",
       "  <tbody>\n",
       "    <tr>\n",
       "      <th>returning</th>\n",
       "      <td>1.000000</td>\n",
       "      <td>-0.001620</td>\n",
       "      <td>0.002143</td>\n",
       "      <td>0.004551</td>\n",
       "    </tr>\n",
       "    <tr>\n",
       "      <th>mobile</th>\n",
       "      <td>-0.001620</td>\n",
       "      <td>1.000000</td>\n",
       "      <td>-0.082047</td>\n",
       "      <td>-0.152557</td>\n",
       "    </tr>\n",
       "    <tr>\n",
       "      <th>pages_viewed</th>\n",
       "      <td>0.002143</td>\n",
       "      <td>-0.082047</td>\n",
       "      <td>1.000000</td>\n",
       "      <td>0.520297</td>\n",
       "    </tr>\n",
       "    <tr>\n",
       "      <th>lead</th>\n",
       "      <td>0.004551</td>\n",
       "      <td>-0.152557</td>\n",
       "      <td>0.520297</td>\n",
       "      <td>1.000000</td>\n",
       "    </tr>\n",
       "  </tbody>\n",
       "</table>\n",
       "</div>"
      ],
      "text/plain": [
       "              returning    mobile  pages_viewed      lead\n",
       "returning      1.000000 -0.001620      0.002143  0.004551\n",
       "mobile        -0.001620  1.000000     -0.082047 -0.152557\n",
       "pages_viewed   0.002143 -0.082047      1.000000  0.520297\n",
       "lead           0.004551 -0.152557      0.520297  1.000000"
      ]
     },
     "execution_count": 43,
     "metadata": {},
     "output_type": "execute_result"
    }
   ],
   "source": [
    "LG.corr()"
   ]
  },
  {
   "cell_type": "code",
   "execution_count": 37,
   "metadata": {},
   "outputs": [
    {
     "data": {
      "text/html": [
       "<div>\n",
       "<table border=\"1\" class=\"dataframe\">\n",
       "  <thead>\n",
       "    <tr style=\"text-align: right;\">\n",
       "      <th></th>\n",
       "      <th>returning</th>\n",
       "      <th>mobile</th>\n",
       "      <th>pages_viewed</th>\n",
       "      <th>lead</th>\n",
       "    </tr>\n",
       "  </thead>\n",
       "  <tbody>\n",
       "    <tr>\n",
       "      <th>returning</th>\n",
       "      <td>1.000000</td>\n",
       "      <td>-0.001620</td>\n",
       "      <td>0.002143</td>\n",
       "      <td>0.004551</td>\n",
       "    </tr>\n",
       "    <tr>\n",
       "      <th>mobile</th>\n",
       "      <td>-0.001620</td>\n",
       "      <td>1.000000</td>\n",
       "      <td>-0.082047</td>\n",
       "      <td>-0.152557</td>\n",
       "    </tr>\n",
       "    <tr>\n",
       "      <th>pages_viewed</th>\n",
       "      <td>0.002143</td>\n",
       "      <td>-0.082047</td>\n",
       "      <td>1.000000</td>\n",
       "      <td>0.520297</td>\n",
       "    </tr>\n",
       "    <tr>\n",
       "      <th>lead</th>\n",
       "      <td>0.004551</td>\n",
       "      <td>-0.152557</td>\n",
       "      <td>0.520297</td>\n",
       "      <td>1.000000</td>\n",
       "    </tr>\n",
       "  </tbody>\n",
       "</table>\n",
       "</div>"
      ],
      "text/plain": [
       "              returning    mobile  pages_viewed      lead\n",
       "returning      1.000000 -0.001620      0.002143  0.004551\n",
       "mobile        -0.001620  1.000000     -0.082047 -0.152557\n",
       "pages_viewed   0.002143 -0.082047      1.000000  0.520297\n",
       "lead           0.004551 -0.152557      0.520297  1.000000"
      ]
     },
     "execution_count": 37,
     "metadata": {},
     "output_type": "execute_result"
    }
   ],
   "source": [
    "# Pairwise Pearson correlations\n",
    "LG.corr(method='pearson')"
   ]
  },
  {
   "cell_type": "code",
   "execution_count": 39,
   "metadata": {},
   "outputs": [
    {
     "data": {
      "text/html": [
       "<div>\n",
       "<table border=\"1\" class=\"dataframe\">\n",
       "  <thead>\n",
       "    <tr style=\"text-align: right;\">\n",
       "      <th></th>\n",
       "      <th>returning</th>\n",
       "      <th>mobile</th>\n",
       "      <th>pages_viewed</th>\n",
       "      <th>lead</th>\n",
       "    </tr>\n",
       "  </thead>\n",
       "  <tbody>\n",
       "    <tr>\n",
       "      <th>returning</th>\n",
       "      <td>1.000000</td>\n",
       "      <td>-0.001620</td>\n",
       "      <td>0.000784</td>\n",
       "      <td>0.004551</td>\n",
       "    </tr>\n",
       "    <tr>\n",
       "      <th>mobile</th>\n",
       "      <td>-0.001620</td>\n",
       "      <td>1.000000</td>\n",
       "      <td>-0.049089</td>\n",
       "      <td>-0.152557</td>\n",
       "    </tr>\n",
       "    <tr>\n",
       "      <th>pages_viewed</th>\n",
       "      <td>0.000784</td>\n",
       "      <td>-0.049089</td>\n",
       "      <td>1.000000</td>\n",
       "      <td>0.291342</td>\n",
       "    </tr>\n",
       "    <tr>\n",
       "      <th>lead</th>\n",
       "      <td>0.004551</td>\n",
       "      <td>-0.152557</td>\n",
       "      <td>0.291342</td>\n",
       "      <td>1.000000</td>\n",
       "    </tr>\n",
       "  </tbody>\n",
       "</table>\n",
       "</div>"
      ],
      "text/plain": [
       "              returning    mobile  pages_viewed      lead\n",
       "returning      1.000000 -0.001620      0.000784  0.004551\n",
       "mobile        -0.001620  1.000000     -0.049089 -0.152557\n",
       "pages_viewed   0.000784 -0.049089      1.000000  0.291342\n",
       "lead           0.004551 -0.152557      0.291342  1.000000"
      ]
     },
     "execution_count": 39,
     "metadata": {},
     "output_type": "execute_result"
    }
   ],
   "source": [
    "# Pairwise Spearman correlations\n",
    "LG.corr(method='spearman')"
   ]
  },
  {
   "cell_type": "code",
   "execution_count": 41,
   "metadata": {},
   "outputs": [
    {
     "data": {
      "text/html": [
       "<div>\n",
       "<table border=\"1\" class=\"dataframe\">\n",
       "  <thead>\n",
       "    <tr style=\"text-align: right;\">\n",
       "      <th></th>\n",
       "      <th>returning</th>\n",
       "      <th>mobile</th>\n",
       "      <th>pages_viewed</th>\n",
       "      <th>lead</th>\n",
       "    </tr>\n",
       "  </thead>\n",
       "  <tbody>\n",
       "    <tr>\n",
       "      <th>returning</th>\n",
       "      <td>1.000000</td>\n",
       "      <td>-0.001620</td>\n",
       "      <td>0.000672</td>\n",
       "      <td>0.004551</td>\n",
       "    </tr>\n",
       "    <tr>\n",
       "      <th>mobile</th>\n",
       "      <td>-0.001620</td>\n",
       "      <td>1.000000</td>\n",
       "      <td>-0.042083</td>\n",
       "      <td>-0.152557</td>\n",
       "    </tr>\n",
       "    <tr>\n",
       "      <th>pages_viewed</th>\n",
       "      <td>0.000672</td>\n",
       "      <td>-0.042083</td>\n",
       "      <td>1.000000</td>\n",
       "      <td>0.249765</td>\n",
       "    </tr>\n",
       "    <tr>\n",
       "      <th>lead</th>\n",
       "      <td>0.004551</td>\n",
       "      <td>-0.152557</td>\n",
       "      <td>0.249765</td>\n",
       "      <td>1.000000</td>\n",
       "    </tr>\n",
       "  </tbody>\n",
       "</table>\n",
       "</div>"
      ],
      "text/plain": [
       "              returning    mobile  pages_viewed      lead\n",
       "returning      1.000000 -0.001620      0.000672  0.004551\n",
       "mobile        -0.001620  1.000000     -0.042083 -0.152557\n",
       "pages_viewed   0.000672 -0.042083      1.000000  0.249765\n",
       "lead           0.004551 -0.152557      0.249765  1.000000"
      ]
     },
     "execution_count": 41,
     "metadata": {},
     "output_type": "execute_result"
    }
   ],
   "source": [
    "# Pairwise Spearman correlations\n",
    "LG.corr(method='kendall')"
   ]
  },
  {
   "cell_type": "code",
   "execution_count": 5,
   "metadata": {},
   "outputs": [
    {
     "data": {
      "text/plain": [
       "returning       1.723441\n",
       "mobile         -0.800780\n",
       "pages_viewed    1.413025\n",
       "lead            5.305419\n",
       "dtype: float64"
      ]
     },
     "execution_count": 5,
     "metadata": {},
     "output_type": "execute_result"
    }
   ],
   "source": [
    "LG.skew()"
   ]
  },
  {
   "cell_type": "markdown",
   "metadata": {},
   "source": [
    "#### Correlation Visualization"
   ]
  },
  {
   "cell_type": "code",
   "execution_count": 7,
   "metadata": {},
   "outputs": [
    {
     "data": {
      "image/png": "[encoded data removed]",
      "text/plain": [
       "<matplotlib.figure.Figure at 0x7fe4f1de2ba8>"
      ]
     },
     "metadata": {},
     "output_type": "display_data"
    }
   ],
   "source": [
    "#Visualize the Correlation using the Seaborn Heatmap function\n",
    "plt.figure(figsize =(16,10))\n",
    "sns.heatmap(LG.corr(), annot=True)\n",
    "plt.show()"
   ]
  },
  {
   "cell_type": "markdown",
   "metadata": {},
   "source": [
    "# VI- Data Preparation"
   ]
  },
  {
   "cell_type": "code",
   "execution_count": 7,
   "metadata": {},
   "outputs": [],
   "source": [
    "## Selecting nominal data feature \"source\"\n",
    "#A = LG.iloc[:, 0:1].values\n",
    "#A"
   ]
  },
  {
   "cell_type": "code",
   "execution_count": 8,
   "metadata": {},
   "outputs": [],
   "source": [
    "# Encoding levels of  feature\n",
    "#from sklearn.preprocessing import LabelEncoder, OneHotEncoder\n",
    "#labelencoder_A = LabelEncoder()\n",
    "#A = labelencoder_A.fit_transform(A)\n",
    "#A"
   ]
  },
  {
   "cell_type": "code",
   "execution_count": 9,
   "metadata": {},
   "outputs": [],
   "source": [
    "# Copying data and checking its first three rows \n",
    "#LG1= LG\n",
    "#LG1.head(3)"
   ]
  },
  {
   "cell_type": "code",
   "execution_count": 10,
   "metadata": {},
   "outputs": [],
   "source": [
    "# Choosing the pages_viewed feature and printing A\n",
    "# A = LG1.iloc[:, 4:5].values\n",
    "# A"
   ]
  },
  {
   "cell_type": "code",
   "execution_count": 11,
   "metadata": {},
   "outputs": [],
   "source": [
    "# Scaling Data feature pages_viewed\n",
    "# from sklearn.preprocessing import StandardScaler\n",
    "#scaler = StandardScaler()\n",
    "#scaler.fit(A)\n",
    "#scaled_features = scaler.transform(A)\n",
    "#print(scaled_features)"
   ]
  },
  {
   "cell_type": "markdown",
   "metadata": {},
   "source": [
    "### Data Transformation"
   ]
  },
  {
   "cell_type": "code",
   "execution_count": 58,
   "metadata": {},
   "outputs": [],
   "source": [
    "## Changing pages viewed to float\n",
    "## Z= [float(x) for x in LG1['pages_viewed']]\n",
    "## Z= [log10(x) for x in Z]"
   ]
  },
  {
   "cell_type": "code",
   "execution_count": 57,
   "metadata": {},
   "outputs": [],
   "source": [
    "## Adding a decimal number to make the numbers in pages viewed float\n",
    "## Sum= (LG1[('pages_viewed')]+ 0.001)\n",
    "## print(Sum)"
   ]
  },
  {
   "cell_type": "code",
   "execution_count": 55,
   "metadata": {},
   "outputs": [],
   "source": [
    "## Exponential for right skewed data features/ our data is right skewed log is better practice\n",
    "## exp_ft= np.exp(scaled_features)\n",
    "## exp_ft"
   ]
  },
  {
   "cell_type": "code",
   "execution_count": null,
   "metadata": {},
   "outputs": [],
   "source": [
    "## Applying Log and exp\n",
    "##from math import exp, expm1, log1p, log10, pow\n",
    "## m = np.log10(np.abs(scaled_features))\n",
    "## print(m)\n",
    "\n",
    "## OR ## Q= log10 ([float(x) for x in asfloat.scaled_features])\n",
    "\n",
    "## plt.hist(m, bins='auto')\n",
    "\n",
    "## pow(scaled_features, 2)"
   ]
  },
  {
   "cell_type": "code",
   "execution_count": null,
   "metadata": {},
   "outputs": [],
   "source": [
    "## Visualizing normal shaped data\n",
    "##plt.hist(df['log_pgs'], bins='auto')"
   ]
  },
  {
   "cell_type": "code",
   "execution_count": 5,
   "metadata": {},
   "outputs": [
    {
     "data": {
      "text/plain": [
       "array([['US'],\n",
       "       ['US'],\n",
       "       ['US'],\n",
       "       ...,\n",
       "       ['US'],\n",
       "       ['US'],\n",
       "       ['Canada']], dtype=object)"
      ]
     },
     "execution_count": 5,
     "metadata": {},
     "output_type": "execute_result"
    }
   ],
   "source": [
    "# Choosing country column \n",
    "Z = LG.iloc[:, 3:4].values\n",
    "Z"
   ]
  },
  {
   "cell_type": "code",
   "execution_count": 6,
   "metadata": {},
   "outputs": [
    {
     "name": "stderr",
     "output_type": "stream",
     "text": [
      "/home/nbuser/anaconda3_420/lib/python3.5/site-packages/sklearn/preprocessing/label.py:129: DataConversionWarning: A column-vector y was passed when a 1d array was expected. Please change the shape of y to (n_samples, ), for example using ravel().\n",
      "  y = column_or_1d(y, warn=True)\n"
     ]
    },
    {
     "data": {
      "text/plain": [
       "array([2, 2, 2, ..., 2, 2, 0])"
      ]
     },
     "execution_count": 6,
     "metadata": {},
     "output_type": "execute_result"
    }
   ],
   "source": [
    "# encoding country feature\n",
    "from sklearn.preprocessing import LabelEncoder, OneHotEncoder\n",
    "labelencoder_Z = LabelEncoder()\n",
    "Z = labelencoder_Z.fit_transform(Z)\n",
    "Z"
   ]
  },
  {
   "cell_type": "code",
   "execution_count": 7,
   "metadata": {},
   "outputs": [],
   "source": [
    "# Inserting the new encoded country column into data \n",
    "LG_new = LG.insert(4, \"COUNTRY\", Z )"
   ]
  },
  {
   "cell_type": "code",
   "execution_count": 8,
   "metadata": {},
   "outputs": [],
   "source": [
    "# Deleting the nominal country feature\n",
    "del LG['country']"
   ]
  },
  {
   "cell_type": "code",
   "execution_count": 9,
   "metadata": {},
   "outputs": [
    {
     "data": {
      "text/html": [
       "<div>\n",
       "<table border=\"1\" class=\"dataframe\">\n",
       "  <thead>\n",
       "    <tr style=\"text-align: right;\">\n",
       "      <th></th>\n",
       "      <th>source</th>\n",
       "      <th>returning</th>\n",
       "      <th>mobile</th>\n",
       "      <th>COUNTRY</th>\n",
       "      <th>pages_viewed</th>\n",
       "      <th>lead</th>\n",
       "    </tr>\n",
       "  </thead>\n",
       "  <tbody>\n",
       "    <tr>\n",
       "      <th>0</th>\n",
       "      <td>Taboola</td>\n",
       "      <td>1</td>\n",
       "      <td>1</td>\n",
       "      <td>2</td>\n",
       "      <td>2</td>\n",
       "      <td>0</td>\n",
       "    </tr>\n",
       "    <tr>\n",
       "      <th>1</th>\n",
       "      <td>Taboola</td>\n",
       "      <td>0</td>\n",
       "      <td>1</td>\n",
       "      <td>2</td>\n",
       "      <td>6</td>\n",
       "      <td>0</td>\n",
       "    </tr>\n",
       "    <tr>\n",
       "      <th>2</th>\n",
       "      <td>Facebook</td>\n",
       "      <td>0</td>\n",
       "      <td>0</td>\n",
       "      <td>2</td>\n",
       "      <td>2</td>\n",
       "      <td>0</td>\n",
       "    </tr>\n",
       "  </tbody>\n",
       "</table>\n",
       "</div>"
      ],
      "text/plain": [
       "     source  returning  mobile  COUNTRY  pages_viewed  lead\n",
       "0   Taboola          1       1        2             2     0\n",
       "1   Taboola          0       1        2             6     0\n",
       "2  Facebook          0       0        2             2     0"
      ]
     },
     "execution_count": 9,
     "metadata": {},
     "output_type": "execute_result"
    }
   ],
   "source": [
    "LG.head(3)"
   ]
  },
  {
   "cell_type": "code",
   "execution_count": 18,
   "metadata": {},
   "outputs": [],
   "source": [
    "## Another way to add a new column to data \n",
    "## df2 = pd.concat([LG, pd.DataFrame(X)], axis=1)"
   ]
  },
  {
   "cell_type": "markdown",
   "metadata": {},
   "source": [
    "### Select Data   "
   ]
  },
  {
   "cell_type": "code",
   "execution_count": 10,
   "metadata": {},
   "outputs": [],
   "source": [
    "\n",
    "# Independent Variables\n",
    "X = LG.iloc[:, [1,2,3,4]].values\n",
    "# Target Variables\n",
    "y = LG.iloc[:, 5].values"
   ]
  },
  {
   "cell_type": "code",
   "execution_count": 11,
   "metadata": {},
   "outputs": [
    {
     "name": "stderr",
     "output_type": "stream",
     "text": [
      "/home/nbuser/anaconda3_420/lib/python3.5/site-packages/sklearn/cross_validation.py:44: DeprecationWarning: This module was deprecated in version 0.18 in favor of the model_selection module into which all the refactored classes and functions are moved. Also note that the interface of the new CV iterators are different from that of this module. This module will be removed in 0.20.\n",
      "  \"This module will be removed in 0.20.\", DeprecationWarning)\n"
     ]
    }
   ],
   "source": [
    "# Splitting the dataset into the Training set and Test set\n",
    "from sklearn.cross_validation import train_test_split\n",
    "X_train, X_test, y_train, y_test = train_test_split(X, y, test_size = 0.20, random_state = 0)"
   ]
  },
  {
   "cell_type": "code",
   "execution_count": 12,
   "metadata": {},
   "outputs": [
    {
     "name": "stderr",
     "output_type": "stream",
     "text": [
      "/home/nbuser/anaconda3_420/lib/python3.5/site-packages/sklearn/utils/validation.py:429: DataConversionWarning: Data with input dtype int64 was converted to float64 by StandardScaler.\n",
      "  warnings.warn(msg, _DataConversionWarning)\n"
     ]
    }
   ],
   "source": [
    "# Feature Scaling\n",
    "from sklearn.preprocessing import StandardScaler\n",
    "sc = StandardScaler()\n",
    "X_train = sc.fit_transform(X_train)\n",
    "X_test = sc.transform(X_test)"
   ]
  }
 ],
 "metadata": {
  "kernelspec": {
   "display_name": "Python 3",
   "language": "python",
   "name": "python3"
  },
  "language_info": {
   "codemirror_mode": {
    "name": "ipython",
    "version": 3
   },
   "file_extension": ".py",
   "mimetype": "text/x-python",
   "name": "python",
   "nbconvert_exporter": "python",
   "pygments_lexer": "ipython3",
   "version": "3.7.3"
  }
 },
 "nbformat": 4,
 "nbformat_minor": 2
}
